{
 "cells": [
  {
   "cell_type": "code",
   "execution_count": null,
   "metadata": {},
   "outputs": [],
   "source": [
    "import time\n",
    "import pandas as pd\n",
    "import pandapower as pp\n",
    "import numpy as np\n",
    "import matplotlib.pyplot as plt\n",
    "import os\n",
    "from pandapower.plotting.plotly import pf_res_plotly\n",
    "from pandapower.plotting.plotly import simple_plotly\n",
    "\n",
    "import Utils.FeederBalancing as FeederBalancing\n",
    "import Utils.GA as GA\n",
    "import Utils.utils as utils"
   ]
  },
  {
   "cell_type": "markdown",
   "metadata": {},
   "source": [
    "# Import Network"
   ]
  },
  {
   "cell_type": "code",
   "execution_count": null,
   "metadata": {},
   "outputs": [],
   "source": [
    "input_path = '../Data/Input'\n",
    "output_path = '../Data/Output'\n",
    "\n",
    "feederbalancing = FeederBalancing.FeederBalancing(input_path)\n",
    "\n",
    "feeder_colors = ['#ff7f0e', '#9467bd']\n",
    "feeder_colors_after = [utils.scale_lightness(c, 0.6) for c in feeder_colors]\n",
    "\n",
    "meaningful_days = [15, 83, 162, 241, 324]\n",
    "timesteps = feederbalancing.get_meaningful_days_timesteps(meaningful_days)"
   ]
  },
  {
   "cell_type": "markdown",
   "metadata": {},
   "source": [
    "# Visualize Time-Series"
   ]
  },
  {
   "cell_type": "code",
   "execution_count": null,
   "metadata": {},
   "outputs": [],
   "source": [
    "feederbalancing.plot_P()"
   ]
  },
  {
   "cell_type": "code",
   "execution_count": null,
   "metadata": {},
   "outputs": [],
   "source": [
    "clips = ([-12,15], [-0.2,7.5]) #To be changed depending on your data\n",
    "a = utils.plot_P_by_feeder(feederbalancing.B_init, feederbalancing, timesteps, feeder_colors, meaningful_days=meaningful_days, clips=clips)"
   ]
  },
  {
   "cell_type": "markdown",
   "metadata": {},
   "source": [
    "# Initialize GA Algorithm"
   ]
  },
  {
   "cell_type": "code",
   "execution_count": null,
   "metadata": {},
   "outputs": [],
   "source": [
    "#Set weigths for the different terms in the objective function\n",
    "feederbalancing.scale_unbalance = 80 / (feederbalancing.number_timesteps * feederbalancing.number_customers) #weight for unbalance between the phases (Eq. 7 in the paper)\n",
    "feederbalancing.scale_aggregate = 0 / (feederbalancing.number_timesteps * feederbalancing.number_customers) #weight to avoid worsening the situation at any step (not mentioned in the paper but may lead to a more robust solution)\n",
    "feederbalancing.scale_changes = 4 / feederbalancing.number_customers #weight to reduce the number of changes (Eq 10)\n",
    "feederbalancing.scale_distances = 1 / feederbalancing.number_customers #weight for considering the distance of the reconfiguration (Eq 11)"
   ]
  },
  {
   "cell_type": "code",
   "execution_count": null,
   "metadata": {},
   "outputs": [],
   "source": [
    "ga_instance = GA.GA(feederbalancing)"
   ]
  },
  {
   "cell_type": "code",
   "execution_count": null,
   "metadata": {},
   "outputs": [],
   "source": [
    "ga_instance.reconstruct = False\n",
    "ga_instance.feeder = 0\n",
    "ga_instance.initial_solution = feederbalancing.B_init_nobinary\n",
    "# ga_instance.initial_solution = solution\n",
    "\n",
    "if(ga_instance.feeder == 0):\n",
    "    ga_instance.num_generations = 50\n",
    "    ga_instance.population_size = 30\n",
    "else:\n",
    "    ga_instance.num_generations = 6\n",
    "    ga_instance.population_size = 10\n",
    "ga_instance.mutation_rate = 0.4\n",
    "# ga_instance.initialize_run()"
   ]
  },
  {
   "cell_type": "code",
   "execution_count": null,
   "metadata": {},
   "outputs": [],
   "source": [
    "initial_loss = feederbalancing.objective_function(feederbalancing.B_init, False)\n",
    "print(f'Initial loss: {initial_loss}. \\n Initial config: {feederbalancing.B_init_nobinary}')"
   ]
  },
  {
   "cell_type": "code",
   "execution_count": null,
   "metadata": {},
   "outputs": [],
   "source": [
    "ga_instance.runGA()\n",
    "if(ga_instance.reconstruct):\n",
    "    solution = ga_instance.reconstruct_solution(ga_instance.best_solution[0])\n",
    "else:\n",
    "    solution = ga_instance.best_solution[0]"
   ]
  },
  {
   "cell_type": "code",
   "execution_count": null,
   "metadata": {},
   "outputs": [],
   "source": [
    "#Some plots to see the different losses\n",
    "plt.plot(np.array(feederbalancing.unbalance_loss) * feederbalancing.scale_unbalance, label='Unbalance')\n",
    "plt.plot(np.array(feederbalancing.associated_loss) * feederbalancing.scale_aggregate, label='Associated_loss')\n",
    "plt.plot(np.array(feederbalancing.changes_loss) * feederbalancing.scale_changes, label='Changes')\n",
    "plt.plot(np.array(feederbalancing.loss_distance) * feederbalancing.scale_distances, label='Distance')\n",
    "plt.legend()"
   ]
  },
  {
   "cell_type": "code",
   "execution_count": null,
   "metadata": {},
   "outputs": [],
   "source": [
    "if(ga_instance.reconstruct):\n",
    "    solution = ga_instance.reconstruct_solution(ga_instance.best_solution[0])\n",
    "else:\n",
    "    solution = ga_instance.best_solution[0]"
   ]
  },
  {
   "cell_type": "code",
   "execution_count": null,
   "metadata": {},
   "outputs": [],
   "source": [
    "print(f'Initial loss: {initial_loss}.\\nInitial config: {feederbalancing.B_init_nobinary}. Number customers: {len(feederbalancing.B_init_nobinary)}')\n",
    "B_sol = feederbalancing.get_B_from_genetic(solution)\n",
    "print(f'Solution loss: {feederbalancing.objective_function(B_sol, False)} ({feederbalancing.objective_function(B_sol)}). N. changes: {np.sum(B_sol * feederbalancing.B_init_opposite)}. \\n Solution config: {solution}')\n",
    "print([k for k in feederbalancing.B_init_nobinary])\n",
    "print([k for k in solution])"
   ]
  },
  {
   "cell_type": "code",
   "execution_count": null,
   "metadata": {},
   "outputs": [],
   "source": [
    "A_init, P = utils.plot_P_by_feeder(feederbalancing.B_init, feederbalancing, timesteps, feeder_colors, meaningful_days=meaningful_days, clips=clips)"
   ]
  },
  {
   "cell_type": "code",
   "execution_count": null,
   "metadata": {},
   "outputs": [],
   "source": [
    "A_sol, P_sol = utils.plot_P_by_feeder(B_sol, feederbalancing, timesteps, feeder_colors, meaningful_days=meaningful_days, clips=clips)"
   ]
  },
  {
   "cell_type": "code",
   "execution_count": null,
   "metadata": {},
   "outputs": [],
   "source": [
    "utils.plot_feeder_unbalance(feederbalancing, A_init, A_sol, feeder_colors, feeder_colors_after, meaningful_days=meaningful_days)"
   ]
  },
  {
   "cell_type": "markdown",
   "metadata": {},
   "source": [
    "# Run PFs"
   ]
  },
  {
   "cell_type": "code",
   "execution_count": null,
   "metadata": {},
   "outputs": [],
   "source": [
    "_, results = feederbalancing.run_simulations(feederbalancing.B_init, output_path)"
   ]
  },
  {
   "cell_type": "code",
   "execution_count": null,
   "metadata": {},
   "outputs": [],
   "source": [
    "utils.plot_PF_results(feederbalancing, results)"
   ]
  },
  {
   "cell_type": "code",
   "execution_count": null,
   "metadata": {},
   "outputs": [],
   "source": [
    "_, results_sol = feederbalancing.run_simulations(B_sol, output_path)"
   ]
  },
  {
   "cell_type": "code",
   "execution_count": null,
   "metadata": {},
   "outputs": [],
   "source": [
    "utils.plot_PF_results(feederbalancing, results_sol)"
   ]
  },
  {
   "cell_type": "code",
   "execution_count": null,
   "metadata": {},
   "outputs": [],
   "source": []
  },
  {
   "cell_type": "code",
   "execution_count": null,
   "metadata": {},
   "outputs": [],
   "source": [
    "#Plot a graph to see the change positions\n",
    "solution = feederbalancing.get_B_from_genetic(solution)\n",
    "for i,changed in enumerate(np.sum(solution * feederbalancing.B_init_opposite, axis=1)):\n",
    "    if(changed==1):\n",
    "        c = feederbalancing.net.asymmetric_load.iloc[i] #it may give issues if the indexes are not the same as expected\n",
    "        feederbalancing.net.bus.at[c['bus'], 'color'] = 'red'\n",
    "simple_plotly(feederbalancing.net, bus_color=feederbalancing.net.bus['color'])"
   ]
  },
  {
   "cell_type": "code",
   "execution_count": null,
   "metadata": {},
   "outputs": [],
   "source": []
  }
 ],
 "metadata": {
  "kernelspec": {
   "display_name": "Python 3.12.8 ('resa2')",
   "language": "python",
   "name": "python3"
  },
  "language_info": {
   "codemirror_mode": {
    "name": "ipython",
    "version": 3
   },
   "file_extension": ".py",
   "mimetype": "text/x-python",
   "name": "python",
   "nbconvert_exporter": "python",
   "pygments_lexer": "ipython3",
   "version": "3.12.8"
  },
  "orig_nbformat": 4,
  "vscode": {
   "interpreter": {
    "hash": "4b2669b7ab9fb83edb72a13efc6357557e191281704b4cbdbaead758f84e1dfa"
   }
  }
 },
 "nbformat": 4,
 "nbformat_minor": 2
}
